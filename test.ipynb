{
 "cells": [
  {
   "cell_type": "code",
   "execution_count": 2,
   "metadata": {},
   "outputs": [],
   "source": [
    "import time\n",
    "import mysql.connector\n",
    "from neo4j import GraphDatabase\n",
    "\n",
    "# ฟังก์ชันสำหรับเชื่อมต่อกับ MySQL\n",
    "def connect_mysql():\n",
    "    return mysql.connector.connect(\n",
    "        host=\"localhost\",\n",
    "        user=\"root\",\n",
    "        password=\"Wealth3visual%\",\n",
    "        database=\"financials\"\n",
    "    )\n",
    "\n",
    "# ฟังก์ชันสำหรับเชื่อมต่อกับ Neo4j\n",
    "def connect_neo4j():\n",
    "    uri = \"bolt://localhost:7687\"\n",
    "    return GraphDatabase.driver(uri, auth=(\"neo4j\", \"Neo4jpassword\"))\n",
    "\n",
    "# ฟังก์ชันสำหรับการสืบค้นใน MySQL\n",
    "def query_mysql(cursor, query):\n",
    "    start_time = time.time()\n",
    "    cursor.execute(query)\n",
    "    results = cursor.fetchall()\n",
    "    end_time = time.time()\n",
    "    return results, end_time - start_time\n",
    "\n",
    "# ฟังก์ชันสำหรับการสืบค้นใน Neo4j\n",
    "def query_neo4j(driver, query):\n",
    "    with driver.session() as session:\n",
    "        start_time = time.time()\n",
    "        results = session.run(query).data()\n",
    "        end_time = time.time()\n",
    "    return results, end_time - start_time\n",
    "\n",
    "# ฟังก์ชันเปรียบเทียบเวลาการสืบค้นและความแม่นยำ\n",
    "def compare_databases(neo4j_query_str,mysql_query_str):\n",
    "    mysql_conn = connect_mysql()\n",
    "    mysql_cursor = mysql_conn.cursor()\n",
    "\n",
    "    neo4j_driver = connect_neo4j()\n",
    "\n",
    "    # Query MySQL\n",
    "    mysql_results, mysql_time = query_mysql(mysql_cursor, mysql_query_str)\n",
    "    print(f\"MySQL Results: {mysql_results}\")\n",
    "    print(f\"MySQL Time: {mysql_time} seconds\")\n",
    "\n",
    "    # Query Neo4j\n",
    "    neo4j_results, neo4j_time = query_neo4j(neo4j_driver, neo4j_query_str)\n",
    "    print(f\"Neo4j Results: {neo4j_results}\")\n",
    "    print(f\"Neo4j Time: {neo4j_time} seconds\")\n",
    "\n",
    "    # เปรียบเทียบผลลัพธ์\n",
    "    if mysql_results == neo4j_results:\n",
    "        print(\"Results are identical\")\n",
    "    else:\n",
    "        print(\"Results differ\")\n",
    "\n",
    "    # ปิดการเชื่อมต่อ\n",
    "    mysql_conn.close()\n",
    "    neo4j_driver.close()\n",
    "\n",
    "    return mysql_time, neo4j_time"
   ]
  },
  {
   "cell_type": "code",
   "execution_count": 9,
   "metadata": {},
   "outputs": [
    {
     "name": "stdout",
     "output_type": "stream",
     "text": [
      "MySQL Results: [(Decimal('55.99'),)]\n",
      "MySQL Time: 0.003021717071533203 seconds\n",
      "Neo4j Results: [{'ROE': 55.99240704846936}]\n",
      "Neo4j Time: 2.0770394802093506 seconds\n",
      "Results differ\n",
      "Time Comparison - MySQL: 2.0770394802093506s, Neo4j: 0.003021717071533203s\n"
     ]
    }
   ],
   "source": [
    "def main():\n",
    "    # ตัวอย่างคำถาม: \"อัตราส่วนการคืนทุน (ROE) ของบริษัท [ADVANC] ในไตรมาสที่ 1 ของปี 2019 คือเท่าไหร่?\"\n",
    "    mysql_query_str = \"\"\"\n",
    "    SELECT roe \n",
    "    FROM financial_statements\n",
    "    WHERE symbol = 'ADVANC' AND year = 2019 AND quarter = 1;\n",
    "    \"\"\"\n",
    "    \n",
    "    neo4j_query_str = \"\"\"\n",
    "    MATCH (c:Company {symbol: 'ADVANC'})-[:HAS_FINANCIAL_STATEMENT]->(fs:FinancialStatement {year: '2019', quarter: '1'})\n",
    "    MATCH (fs)-[:HAS_RATIO]->(r:FinancialRatio {type: 'ROE'})\n",
    "    RETURN r.value AS ROE\n",
    "    \"\"\"\n",
    "\n",
    "    neo4j_time,mysql_time  = compare_databases(neo4j_query_str,mysql_query_str)\n",
    "    print(f\"Time Comparison - MySQL: {mysql_time}s, Neo4j: {neo4j_time}s\")\n",
    "\n",
    "if __name__ == \"__main__\":\n",
    "    main()\n"
   ]
  },
  {
   "cell_type": "code",
   "execution_count": 19,
   "metadata": {},
   "outputs": [],
   "source": [
    "import time\n",
    "from neo4j import GraphDatabase\n",
    "\n",
    "# ฟังก์ชันสำหรับเชื่อมต่อกับ Neo4j\n",
    "def connect_neo4j():\n",
    "    uri = \"bolt://localhost:7687\"\n",
    "    return GraphDatabase.driver(uri, auth=(\"neo4j\", \"Neo4jpassword\"))\n",
    "\n",
    "# ฟังก์ชันสำหรับการสืบค้นใน Neo4j\n",
    "def query_neo4j(driver, query):\n",
    "    with driver.session() as session:\n",
    "        start_time = time.time()\n",
    "        results = session.run(query).data()\n",
    "        end_time = time.time()\n",
    "    return results, end_time - start_time\n",
    "\n",
    "# ฟังก์ชันเปรียบเทียบเวลาการสืบค้นและความแม่นยำ\n",
    "def compare_databases(neo4j_query_str):\n",
    "\n",
    "    neo4j_driver = connect_neo4j()\n",
    "\n",
    "    # Query Neo4j\n",
    "    neo4j_results, neo4j_time = query_neo4j(neo4j_driver, neo4j_query_str)\n",
    "    print(f\"Neo4j Results: {neo4j_results}\")\n",
    "    print(f\"Neo4j Time: {neo4j_time} seconds\")\n",
    "\n",
    "    neo4j_driver.close()\n",
    "\n",
    "    return  neo4j_time"
   ]
  },
  {
   "cell_type": "code",
   "execution_count": 22,
   "metadata": {},
   "outputs": [
    {
     "name": "stdout",
     "output_type": "stream",
     "text": [
      "Neo4j Results: [{'ROE2019': 36.140498267470385, 'ROE2023': 34.039870187412575}]\n",
      "Neo4j Time: 2.0640342235565186 seconds\n",
      "Neo4j: 2.0640342235565186s\n"
     ]
    }
   ],
   "source": [
    "def main():\n",
    "    neo4j_query_str = \"\"\"\n",
    "    MATCH (c:Company {symbol: 'ADVANC'})-[:HAS_FINANCIAL_STATEMENT]->(fs2019:FinancialStatement {year: '2022', quarter: '1'})\n",
    "    MATCH (fs2019)-[:HAS_RATIO]->(r2019:FinancialRatio {type: 'ROE'})\n",
    "    MATCH (c)-[:HAS_FINANCIAL_STATEMENT]->(fs2023:FinancialStatement {year: '2023', quarter: '1'})\n",
    "    MATCH (fs2023)-[:HAS_RATIO]->(r2023:FinancialRatio {type: 'ROE'})\n",
    "    RETURN r2019.value AS ROE2019, r2023.value AS ROE2023\n",
    "    \"\"\"\n",
    "\n",
    "    neo4j_time = compare_databases(neo4j_query_str)\n",
    "    print(f\"Neo4j: {neo4j_time}s\")\n",
    "\n",
    "if __name__ == \"__main__\":\n",
    "    main()\n"
   ]
  }
 ],
 "metadata": {
  "kernelspec": {
   "display_name": "Python 3",
   "language": "python",
   "name": "python3"
  },
  "language_info": {
   "codemirror_mode": {
    "name": "ipython",
    "version": 3
   },
   "file_extension": ".py",
   "mimetype": "text/x-python",
   "name": "python",
   "nbconvert_exporter": "python",
   "pygments_lexer": "ipython3",
   "version": "3.11.9"
  }
 },
 "nbformat": 4,
 "nbformat_minor": 2
}
